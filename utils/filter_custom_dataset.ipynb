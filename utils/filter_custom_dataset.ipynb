{
 "cells": [
  {
   "cell_type": "code",
   "execution_count": null,
   "metadata": {},
   "outputs": [],
   "source": [
    "import librosa\n",
    "import IPython.display as ipd\n",
    "#ipd.display(data=y) where y is local wav file. \n",
    "class MyTestGenerator:\n",
    "    def __init__(self, lines, cur=0):\n",
    "        self.lines = lines\n",
    "        self.cur = cur  \n",
    "        self.max = len(lines)\n",
    "        \n",
    "    def __iter__(self):\n",
    "        return self \n",
    "        \n",
    "    def __next__(self):\n",
    "        if self.cur >= self.max:\n",
    "            raise StopIteration\n",
    "        cur_data = self.lines[self.cur].split(\" :: \")\n",
    "        path, transcription, raw_transcription = cur_data\n",
    "        self.cur += 1\n",
    "        return path, transcription, raw_transcription\n",
    "     "
   ]
  },
  {
   "cell_type": "code",
   "execution_count": null,
   "metadata": {},
   "outputs": [],
   "source": [
    "gen = None \n",
    "count = 0\n",
    "with open('/home/ubuntu/test_refined.tsv', mode=\"r\", encoding=\"utf-8\") as f:\n",
    "    lines = f.readlines()\n",
    "    gen = MyTestGenerator(lines, 34)"
   ]
  },
  {
   "cell_type": "code",
   "execution_count": null,
   "metadata": {},
   "outputs": [],
   "source": [
    "# Get wav file and transcription \n",
    "_BASE_DIR = '/home/ubuntu/en_data/3.Test/'\n",
    "path, transcription, raw_transcription = next(gen)\n",
    "y, sr = librosa.load(path=_BASE_DIR + path)\n",
    "print(f\"No: {gen.cur}\")\n",
    "print(f\"정제 전사문: {transcription}\")\n",
    "print(f\"전사문     : {raw_transcription}\")\n",
    "ipd.Audio(y, rate=sr, autoplay=True)"
   ]
  },
  {
   "cell_type": "code",
   "execution_count": null,
   "metadata": {},
   "outputs": [],
   "source": [
    "# write decent file for later use \n",
    "print(f\"{path} :: {transcription}\")\n",
    "with open('/home/ubuntu/test_filtered.tsv', mode=\"a+\", encoding=\"utf-8\") as g:\n",
    "    g.write(f\"{path} :: {transcription}\\n\")\n",
    "\n"
   ]
  }
 ],
 "metadata": {
  "language_info": {
   "name": "python"
  }
 },
 "nbformat": 4,
 "nbformat_minor": 2
}
